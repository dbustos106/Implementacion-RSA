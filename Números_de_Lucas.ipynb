{
  "nbformat": 4,
  "nbformat_minor": 0,
  "metadata": {
    "colab": {
      "name": "Números de Lucas.ipynb",
      "provenance": [],
      "collapsed_sections": [],
      "authorship_tag": "ABX9TyPTORQE0mqu8Vy46M8/wGmJ",
      "include_colab_link": true
    },
    "kernelspec": {
      "name": "python3",
      "display_name": "Python 3"
    }
  },
  "cells": [
    {
      "cell_type": "markdown",
      "metadata": {
        "id": "view-in-github",
        "colab_type": "text"
      },
      "source": [
        "<a href=\"https://colab.research.google.com/github/dbustos106/Implementacion-RSA/blob/master/N%C3%BAmeros_de_Lucas.ipynb\" target=\"_parent\"><img src=\"https://colab.research.google.com/assets/colab-badge.svg\" alt=\"Open In Colab\"/></a>"
      ]
    },
    {
      "cell_type": "markdown",
      "metadata": {
        "id": "baN7-lxLmtj4",
        "colab_type": "text"
      },
      "source": [
        "##Números de lucas"
      ]
    },
    {
      "cell_type": "markdown",
      "metadata": {
        "id": "Zagcc8ozqYG2",
        "colab_type": "text"
      },
      "source": [
        "$L_{n+2} = L_{n+1} + L_{n} \\ \\ \\ \\ \\ \\ \\ \\ \\ \\ \\ \\ \\ \\ \\ \\ \\ \\ L_{0} = 2, L_{1} = 1$ \\\\\n",
        "\n",
        "$L_{n} = L_{n-1} + L_{n-2}$ \\\\\n",
        "\n",
        "Se establece el polinomio característico como:\n",
        "\n",
        "$\\hspace{6.5cm} x^{2}-x-1 = 0$\n",
        "\n",
        "$\\hspace{3.7cm} X_{1} = \\frac{1+\\sqrt{5}}{2} \\hspace{4cm} X_{2} = \\frac{1-\\sqrt{5}}{2}$ \\\\\n",
        "\n",
        "La ecuación en diferencia tendrá la forma: \\\\\n",
        "\n",
        "$\\hspace{5.6cm} L_{n} = \\frac{1+\\sqrt{5}}{2}A + \\frac{1-\\sqrt{5}}{2}B$ \\\\\n",
        "\n",
        "Se reemplaza para los casos base: \\\\\n",
        "\n",
        "$\\hspace{2cm} (1) \\ \\ \\ \\ \\ \\ \\ L_{0} = A + B$ \\\\\n",
        "\n",
        "$\\hspace{2cm} (2) \\ \\ \\ \\ \\ \\ \\ L_{1} = \\frac{1+\\sqrt{5}}{2}A + \\frac{1-\\sqrt{5}}{2}B$ \\\\\n",
        "$ $ \\\\\n",
        "$\\hspace{2cm} (1) \\ \\ \\ \\ \\ \\ \\ 2 = A + B$ \\\\\n",
        "\n",
        "$\\hspace{2cm} (2) \\ \\ \\ \\ \\ \\ \\ 1 = \\frac{1+\\sqrt{5}}{2}A + \\frac{1-\\sqrt{5}}{2}B$ \\\\\n",
        "$ $ \\\\\n",
        "$\\hspace{2cm} (1) \\ \\ \\ \\ \\ \\ \\ \\sqrt{5}-1 = -\\frac{1-\\sqrt{5}}{2}A - \\frac{1-\\sqrt{5}}{2}B$ \\\\\n",
        "\n",
        "$\\hspace{2cm} (2) \\ \\ \\ \\ \\ \\ \\ 1 = \\frac{1+\\sqrt{5}}{2}A + \\frac{1-\\sqrt{5}}{2}B$ \\\\\n",
        "\n",
        "Se suman ambas ecuaciones  \\\\\n",
        "$\\hspace{4.2cm} \\sqrt{5} = -\\frac{1-\\sqrt{5}}{2}A + \\frac{1+\\sqrt{5}}{2}A$ \\\\\n",
        "\n",
        "$\\hspace{5.6cm} \\sqrt{5} = \\sqrt{5}A$ \\\\\n",
        "\n",
        "$\\hspace{6.3cm} 1 = A$ \\\\\n",
        "Se reemplaza en la primera ecuación y se encuentra el valor de B \\\\\n",
        "$\\hspace{5.9cm} 2 = 1 + B$ \\\\\n",
        "$\\hspace{6.3cm} 1 = B$ \\\\\n",
        "Luego, \\\\\n",
        "$\\hspace{4.5cm} L_{n} = \\frac{1+\\sqrt{5}}{2}A + \\frac{1-\\sqrt{5}}{2}B$ \\\\"
      ]
    },
    {
      "cell_type": "code",
      "metadata": {
        "id": "SCF1jx4boqJ5",
        "colab_type": "code",
        "colab": {}
      },
      "source": [
        "import math\n",
        "\n",
        "#Calcula el número en la posición \"pos\" de los números de lucas\n",
        "\n",
        "def lucas(pos):\n",
        "  pos = pos - 1\n",
        "  return int(((1+math.sqrt(5))/2)**pos + ((1-math.sqrt(5))/2)**pos) "
      ],
      "execution_count": 9,
      "outputs": []
    },
    {
      "cell_type": "code",
      "metadata": {
        "id": "8H5YTNL_mjOU",
        "colab_type": "code",
        "colab": {}
      },
      "source": [
        "import math\n",
        "\n",
        "#Encuentra el primer número de lucas mas grande a un \"numero\" en caso de que lugar sea \"mayor\".\n",
        "#Encuentra el número de lucas mas cercano a un número \"numero\" en otro caso.\n",
        "\n",
        "def numeroCercano(numero, lugar):\n",
        "  lucas0 = 2\n",
        "  lucas1 = 1\n",
        "  lucas2 = lucas0 + lucas1\n",
        "  while numero > lucas2:\n",
        "    lucas2 = lucas0 + lucas1\n",
        "    lucas0 = lucas1\n",
        "    lucas1 = lucas2\n",
        "  if lugar == \"mayor\":\n",
        "    return lucas2\n",
        "  else:\n",
        "    if abs(lucas1-numero) > abs(lucas2-numero):\n",
        "      return lucas2\n",
        "    else:\n",
        "      return lucas0"
      ],
      "execution_count": 8,
      "outputs": []
    },
    {
      "cell_type": "code",
      "metadata": {
        "id": "mE7LDuZ4ngTk",
        "colab_type": "code",
        "colab": {
          "base_uri": "https://localhost:8080/",
          "height": 68
        },
        "outputId": "bd4e1d11-439f-4120-e70d-872362d066e0"
      },
      "source": [
        "print(\"El 18-th número de lucas es: \", lucas(18))\n",
        "print(\"El número de lucas mas cercano a 1000 es: \", numeroCercano(1000, \"cercano\"))\n",
        "print(\"El primer número de lucas mas grande que 100 es: \", numeroCercano(100, \"mayor\"))"
      ],
      "execution_count": 10,
      "outputs": [
        {
          "output_type": "stream",
          "text": [
            "El 18-th número de lucas es:  3571\n",
            "El número de lucas mas cercano a 1000 es:  843\n",
            "El primer número de lucas mas grande que 100 es:  123\n"
          ],
          "name": "stdout"
        }
      ]
    },
    {
      "cell_type": "code",
      "metadata": {
        "id": "mYHjj-yWstNg",
        "colab_type": "code",
        "colab": {}
      },
      "source": [
        ""
      ],
      "execution_count": null,
      "outputs": []
    }
  ]
}